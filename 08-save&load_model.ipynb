{
 "cells": [
  {
   "cell_type": "code",
   "execution_count": null,
   "metadata": {},
   "outputs": [],
   "source": [
    "import torch\n",
    "import torchvision.models as models\n",
    "\n",
    "'''\n",
    "model = models.vgg16(weights='IMAGENET1K_V1')\n",
    "torch.save(model.state_dict(), 'model_weights.pth')\n",
    "\n",
    "model = models.vgg16() # we do not specify weights, i.e. create untrained model\n",
    "model.load_state_dict(torch.load('model_weights.pth'))\n",
    "\n",
    "print(model)\n",
    "print(list(model.state_dict().keys()))\n",
    "# model.eval()\n",
    "'''\n",
    "\n",
    "model = models.vgg16(weights='IMAGENET1K_V1')\n",
    "torch.save(model,'full_vgg16.pth')\n",
    "\n",
    "model=torch.load('full_vgg16.pth')\n",
    "\n",
    "for batch in dataloader:\n",
    "    y=model(batch) # (64,1000,)\n",
    "    "
   ]
  }
 ],
 "metadata": {
  "kernelspec": {
   "display_name": "Python 3.10.7 64-bit",
   "language": "python",
   "name": "python3"
  },
  "language_info": {
   "name": "python",
   "version": "3.10.7"
  },
  "orig_nbformat": 4,
  "vscode": {
   "interpreter": {
    "hash": "b00bcc7b1108f94f928d89ab1b1015ec52a8bba8401a2f54d829d905a6a4059c"
   }
  }
 },
 "nbformat": 4,
 "nbformat_minor": 2
}
