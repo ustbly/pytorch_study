{
 "cells": [
  {
   "cell_type": "code",
   "execution_count": 2,
   "id": "94b4f34f",
   "metadata": {},
   "outputs": [
    {
     "name": "stdout",
     "output_type": "stream",
     "text": [
      "Ones Tensor: \n",
      " tensor([[1, 1],\n",
      "        [1, 1]]) \n",
      "\n",
      "Random Tensor: \n",
      " tensor([[0.0810, 0.8066],\n",
      "        [0.4571, 0.1107]]) \n",
      "\n"
     ]
    }
   ],
   "source": [
    "import torch\n",
    "import numpy as np\n",
    "\n",
    "data = [[1, 2],[3, 4]]\n",
    "x_data = torch.tensor(data)\n",
    "\n",
    "x_ones = torch.ones_like(x_data) # retains the properties of x_data\n",
    "print(f\"Ones Tensor: \\n {x_ones} \\n\")\n",
    "\n",
    "x_rand = torch.rand_like(x_data, dtype=torch.float32) # overrides the datatype of x_data\n",
    "print(f\"Random Tensor: \\n {x_rand} \\n\")"
   ]
  },
  {
   "cell_type": "code",
   "execution_count": 5,
   "id": "94055abf",
   "metadata": {},
   "outputs": [
    {
     "name": "stdout",
     "output_type": "stream",
     "text": [
      "Random Tensor: \n",
      " tensor([[[0.8923, 0.8292, 0.9917,  ..., 0.3469, 0.6648, 0.9085],\n",
      "         [0.3411, 0.2923, 0.8990,  ..., 0.6739, 0.9215, 0.9581],\n",
      "         [0.9433, 0.4563, 0.9903,  ..., 0.8783, 0.4090, 0.4796],\n",
      "         ...,\n",
      "         [0.1807, 0.1886, 0.4979,  ..., 0.8151, 0.9369, 0.5862],\n",
      "         [0.6555, 0.6949, 0.1058,  ..., 0.6900, 0.0615, 0.0084],\n",
      "         [0.9539, 0.1004, 0.2393,  ..., 0.4764, 0.9595, 0.0790]],\n",
      "\n",
      "        [[0.7995, 0.2104, 0.2307,  ..., 0.6677, 0.5535, 0.0121],\n",
      "         [0.6659, 0.3885, 0.6853,  ..., 0.4667, 0.2953, 0.4097],\n",
      "         [0.3099, 0.7188, 0.0084,  ..., 0.8777, 0.0121, 0.4457],\n",
      "         ...,\n",
      "         [0.3495, 0.3219, 0.0070,  ..., 0.0467, 0.1445, 0.1495],\n",
      "         [0.9999, 0.8675, 0.5165,  ..., 0.8168, 0.1301, 0.6613],\n",
      "         [0.5868, 0.2069, 0.8365,  ..., 0.8863, 0.0200, 0.5934]],\n",
      "\n",
      "        [[0.1645, 0.0066, 0.9954,  ..., 0.1930, 0.5952, 0.5897],\n",
      "         [0.9220, 0.7313, 0.6682,  ..., 0.3974, 0.1268, 0.7495],\n",
      "         [0.2557, 0.9553, 0.2928,  ..., 0.1548, 0.7820, 0.2334],\n",
      "         ...,\n",
      "         [0.0988, 0.5365, 0.8586,  ..., 0.1643, 0.0277, 0.7867],\n",
      "         [0.4080, 0.0125, 0.8141,  ..., 0.8513, 0.6247, 0.6462],\n",
      "         [0.9510, 0.1899, 0.1123,  ..., 0.0333, 0.2093, 0.8359]]]) \n",
      "\n",
      "Ones Tensor: \n",
      " tensor([[[1., 1., 1.,  ..., 1., 1., 1.],\n",
      "         [1., 1., 1.,  ..., 1., 1., 1.],\n",
      "         [1., 1., 1.,  ..., 1., 1., 1.],\n",
      "         ...,\n",
      "         [1., 1., 1.,  ..., 1., 1., 1.],\n",
      "         [1., 1., 1.,  ..., 1., 1., 1.],\n",
      "         [1., 1., 1.,  ..., 1., 1., 1.]],\n",
      "\n",
      "        [[1., 1., 1.,  ..., 1., 1., 1.],\n",
      "         [1., 1., 1.,  ..., 1., 1., 1.],\n",
      "         [1., 1., 1.,  ..., 1., 1., 1.],\n",
      "         ...,\n",
      "         [1., 1., 1.,  ..., 1., 1., 1.],\n",
      "         [1., 1., 1.,  ..., 1., 1., 1.],\n",
      "         [1., 1., 1.,  ..., 1., 1., 1.]],\n",
      "\n",
      "        [[1., 1., 1.,  ..., 1., 1., 1.],\n",
      "         [1., 1., 1.,  ..., 1., 1., 1.],\n",
      "         [1., 1., 1.,  ..., 1., 1., 1.],\n",
      "         ...,\n",
      "         [1., 1., 1.,  ..., 1., 1., 1.],\n",
      "         [1., 1., 1.,  ..., 1., 1., 1.],\n",
      "         [1., 1., 1.,  ..., 1., 1., 1.]]]) \n",
      "\n",
      "Zeros Tensor: \n",
      " tensor([[[0., 0., 0.,  ..., 0., 0., 0.],\n",
      "         [0., 0., 0.,  ..., 0., 0., 0.],\n",
      "         [0., 0., 0.,  ..., 0., 0., 0.],\n",
      "         ...,\n",
      "         [0., 0., 0.,  ..., 0., 0., 0.],\n",
      "         [0., 0., 0.,  ..., 0., 0., 0.],\n",
      "         [0., 0., 0.,  ..., 0., 0., 0.]],\n",
      "\n",
      "        [[0., 0., 0.,  ..., 0., 0., 0.],\n",
      "         [0., 0., 0.,  ..., 0., 0., 0.],\n",
      "         [0., 0., 0.,  ..., 0., 0., 0.],\n",
      "         ...,\n",
      "         [0., 0., 0.,  ..., 0., 0., 0.],\n",
      "         [0., 0., 0.,  ..., 0., 0., 0.],\n",
      "         [0., 0., 0.,  ..., 0., 0., 0.]],\n",
      "\n",
      "        [[0., 0., 0.,  ..., 0., 0., 0.],\n",
      "         [0., 0., 0.,  ..., 0., 0., 0.],\n",
      "         [0., 0., 0.,  ..., 0., 0., 0.],\n",
      "         ...,\n",
      "         [0., 0., 0.,  ..., 0., 0., 0.],\n",
      "         [0., 0., 0.,  ..., 0., 0., 0.],\n",
      "         [0., 0., 0.,  ..., 0., 0., 0.]]])\n",
      "Shape of tensor: torch.Size([3, 4])\n",
      "Datatype of tensor: torch.float32\n",
      "Device tensor is stored on: cpu\n",
      "Device tensor is stored on: cuda:0\n"
     ]
    }
   ],
   "source": [
    "shape = (3,28,28,)\n",
    "rand_tensor = torch.rand(shape) # x*w+b\n",
    "ones_tensor = torch.ones(shape)\n",
    "zeros_tensor = torch.zeros(shape) # b\n",
    "\n",
    "print(f\"Random Tensor: \\n {rand_tensor} \\n\")\n",
    "print(f\"Ones Tensor: \\n {ones_tensor} \\n\")\n",
    "print(f\"Zeros Tensor: \\n {zeros_tensor}\")\n",
    "\n",
    "tensor = torch.rand(3,4)\n",
    "print(f\"Shape of tensor: {tensor.shape}\")\n",
    "print(f\"Datatype of tensor: {tensor.dtype}\")\n",
    "print(f\"Device tensor is stored on: {tensor.device}\")\n",
    "tensor = tensor.to('cuda')\n",
    "print(f\"Device tensor is stored on: {tensor.device}\")"
   ]
  },
  {
   "cell_type": "code",
   "execution_count": 6,
   "id": "3321ac3f",
   "metadata": {},
   "outputs": [
    {
     "name": "stdout",
     "output_type": "stream",
     "text": [
      "tensor([[0.8637, 0.4156, 0.3630, 0.0611],\n",
      "        [0.5058, 0.3707, 0.3317, 0.5219],\n",
      "        [0.5677, 0.4576, 0.8116, 0.5220],\n",
      "        [0.8742, 0.3244, 0.7416, 0.7341]])\n",
      "First row: tensor([0.8637, 0.4156, 0.3630, 0.0611])\n",
      "First column: tensor([0.8637, 0.5058, 0.5677, 0.8742])\n",
      "Last column: tensor([0.0611, 0.5219, 0.5220, 0.7341])\n",
      "tensor([[0.8637, 0.0000, 0.3630, 0.0611],\n",
      "        [0.5058, 0.0000, 0.3317, 0.5219],\n",
      "        [0.5677, 0.0000, 0.8116, 0.5220],\n",
      "        [0.8742, 0.0000, 0.7416, 0.7341]])\n"
     ]
    }
   ],
   "source": [
    "tensor = torch.rand(4, 4)\n",
    "print(tensor)\n",
    "print(f\"First row: {tensor[0]}\")\n",
    "print(f\"First column: {tensor[:, 0]}\")\n",
    "print(f\"Last column: {tensor[..., -1]}\")\n",
    "tensor[:,1] = 0\n",
    "print(tensor)"
   ]
  },
  {
   "cell_type": "code",
   "execution_count": 7,
   "id": "20aca2ab",
   "metadata": {},
   "outputs": [
    {
     "name": "stdout",
     "output_type": "stream",
     "text": [
      "tensor([[0.8637, 0.0000, 0.3630, 0.0611],\n",
      "        [0.5058, 0.0000, 0.3317, 0.5219],\n",
      "        [0.5677, 0.0000, 0.8116, 0.5220],\n",
      "        [0.8742, 0.0000, 0.7416, 0.7341],\n",
      "        [0.8637, 0.0000, 0.3630, 0.0611],\n",
      "        [0.5058, 0.0000, 0.3317, 0.5219],\n",
      "        [0.5677, 0.0000, 0.8116, 0.5220],\n",
      "        [0.8742, 0.0000, 0.7416, 0.7341],\n",
      "        [0.8637, 0.0000, 0.3630, 0.0611],\n",
      "        [0.5058, 0.0000, 0.3317, 0.5219],\n",
      "        [0.5677, 0.0000, 0.8116, 0.5220],\n",
      "        [0.8742, 0.0000, 0.7416, 0.7341]])\n"
     ]
    }
   ],
   "source": [
    "t1 = torch.cat([tensor, tensor, tensor], dim=0)\n",
    "print(t1)"
   ]
  },
  {
   "cell_type": "code",
   "execution_count": 8,
   "id": "ff80dca2",
   "metadata": {},
   "outputs": [
    {
     "name": "stdout",
     "output_type": "stream",
     "text": [
      "tensor([[1., 1., 1., 1.],\n",
      "        [1., 1., 1., 1.],\n",
      "        [1., 1., 1., 1.]])\n",
      "tensor([[1., 1., 1.],\n",
      "        [1., 1., 1.],\n",
      "        [1., 1., 1.],\n",
      "        [1., 1., 1.]])\n",
      "tensor([[4., 4., 4.],\n",
      "        [4., 4., 4.],\n",
      "        [4., 4., 4.]])\n",
      "tensor([[4., 4., 4.],\n",
      "        [4., 4., 4.],\n",
      "        [4., 4., 4.]])\n",
      "tensor([3, 4, 3])\n"
     ]
    }
   ],
   "source": [
    "tensor = torch.ones(3,4) \n",
    "print(tensor)   # (3,4)\n",
    "print(tensor.T)  # (4,3)\n",
    "print(tensor @ tensor.T) # (3,3)\n",
    "\n",
    "y3 = torch.zeros(3,3)\n",
    "torch.matmul(tensor, tensor.T, out=y3)\n",
    "print(y3)\n",
    "#y1 = tensor @ tensor.T\n",
    "#y2 = tensor.matmul(tensor.T)\n",
    "\n",
    "tensor1=torch.tensor([1,2,3])\n",
    "tensor2=torch.tensor([3,2,1])\n",
    "z1 = tensor1 * tensor2\n",
    "print(z1)"
   ]
  },
  {
   "cell_type": "code",
   "execution_count": 10,
   "id": "3afe0419",
   "metadata": {},
   "outputs": [
    {
     "name": "stdout",
     "output_type": "stream",
     "text": [
      "tensor([[1., 2., 3.],\n",
      "        [2., 1., 4.]])\n",
      "tensor(13.)\n",
      "13.0 <class 'float'>\n",
      "tensor([[1., 2., 3.],\n",
      "        [2., 1., 4.]]) \n",
      "\n",
      "tensor([[0.1000, 0.2000, 0.3000],\n",
      "        [0.2000, 0.1000, 0.4000]])\n"
     ]
    }
   ],
   "source": [
    "tensor1=torch.tensor([\n",
    "   [ 1,2,3 ],\n",
    "   [ 2,1,4 ],\n",
    "])\n",
    "tensor2=torch.pow(tensor1, 2) # element-wise 元素级\n",
    "tensor3=torch.sqrt(tensor2) \n",
    "print(tensor3)\n",
    "\n",
    "\n",
    "tensor=torch.Tensor([\n",
    "   [ 1,2,3 ],\n",
    "   [ 2,1,4 ],\n",
    "])\n",
    "agg = tensor.sum()\n",
    "print(agg)\n",
    "agg_item = agg.item()\n",
    "print(agg_item, type(agg_item))\n",
    "\n",
    "print(f\"{tensor} \\n\")\n",
    "tensor.div_(10)\n",
    "print(tensor)"
   ]
  },
  {
   "cell_type": "code",
   "execution_count": 11,
   "id": "bcbefdb2",
   "metadata": {},
   "outputs": [
    {
     "name": "stdout",
     "output_type": "stream",
     "text": [
      "tensor([[0.1000, 0.2000, 0.3000],\n",
      "        [0.2000, 0.1000, 0.4000]], device='cuda:0')\n",
      "t: tensor([1., 1., 1., 1., 1.])\n",
      "n: [1. 1. 1. 1. 1.]\n",
      "n: [2. 2. 2. 2. 2.]\n",
      "[2. 2. 2. 2. 2.]\n",
      "tensor([2., 2., 2., 2., 2.], dtype=torch.float64)\n"
     ]
    }
   ],
   "source": [
    "tensor = tensor.to(\"cuda\")\n",
    "print(tensor)\n",
    "\n",
    "t = torch.ones(5)\n",
    "print(f\"t: {t}\")\n",
    "n = t.numpy()\n",
    "print(f\"n: {n}\")\n",
    "\n",
    "t.add_(1)\n",
    "n = t.numpy()\n",
    "print(f\"n: {n}\")\n",
    "\n",
    "\n",
    "n = np.ones(5)\n",
    "t = torch.from_numpy(n)\n",
    "n+=1\n",
    "print(n)\n",
    "print(t)"
   ]
  },
  {
   "cell_type": "code",
   "execution_count": null,
   "id": "29bcabc6",
   "metadata": {},
   "outputs": [],
   "source": []
  }
 ],
 "metadata": {
  "kernelspec": {
   "display_name": "pytorch",
   "language": "python",
   "name": "pytorch"
  },
  "language_info": {
   "codemirror_mode": {
    "name": "ipython",
    "version": 3
   },
   "file_extension": ".py",
   "mimetype": "text/x-python",
   "name": "python",
   "nbconvert_exporter": "python",
   "pygments_lexer": "ipython3",
   "version": "3.9.16"
  }
 },
 "nbformat": 4,
 "nbformat_minor": 5
}
